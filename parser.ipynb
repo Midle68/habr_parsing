{
 "cells": [
  {
   "cell_type": "markdown",
   "id": "8414d018",
   "metadata": {},
   "source": [
    "# Парсинг данных\n",
    "\n",
    "В рамках данного проекта необходимо осуществить парсинг данных с веб-сайта. В качества веб-сайта взят habr.com. Необходимо осуществить парсинг лучших постов за все время. Данные для парсинга: 1) параметры - наименование статьи, дата загрузки, категория, к которой пост относится; количество голосов и 2) целевой показатель - число просмотров. Параметр 'количество голосов' можно также использовать как целевой показатель, поэтому и информация по нему была собрана. Однако в качестве независимого параметра он не подходит, поскольку может сильно зависеть от количества просмотров.\n",
    "\n",
    "В дальнейшем можно рассмотреть не только лучшие за все время посты, но и увеличить выборку еще б**о**льшим объемом повседневных постов.\n",
    "\n",
    "Объем выборки составил 997 статей (для 3 не было обнаружено количество просмотров, поэтому от них решено было избавиться. В дополнение, результат работы парсера (база данных) был сохранен в отдельный файл 'posts_data.csv')\n",
    "\n",
    "<br>**План проекта**:\n",
    "1. [Импортирование библиотек](#import)\n",
    "2. [Парсинг данных](#parsing)\n",
    "3. [Предобработка данных и Feature Engineering](#preprocessing)"
   ]
  },
  {
   "cell_type": "markdown",
   "id": "c74627e2",
   "metadata": {},
   "source": [
    "<a name='import'></a>\n",
    "## 1. Импортирование библиотек"
   ]
  },
  {
   "cell_type": "code",
   "execution_count": 1,
   "id": "d9e7bd19",
   "metadata": {},
   "outputs": [
    {
     "data": {
      "text/plain": [
       "'\\nfrom bs4 import BeautifulSoup\\nimport os\\nimport concurrent.futures\\nfrom concurrent.futures import ProcessPoolExecutor, ThreadPoolExecutor\\nfrom itertools import cycle\\n'"
      ]
     },
     "execution_count": 1,
     "metadata": {},
     "output_type": "execute_result"
    }
   ],
   "source": [
    "from selenium import webdriver\n",
    "from selenium.webdriver.common.by import By\n",
    "from selenium.webdriver.firefox.options import Options\n",
    "import time\n",
    "import re\n",
    "import pandas as pd\n",
    "\n",
    "'''\n",
    "from bs4 import BeautifulSoup\n",
    "import os\n",
    "import concurrent.futures\n",
    "from concurrent.futures import ProcessPoolExecutor, ThreadPoolExecutor\n",
    "from itertools import cycle\n",
    "'''"
   ]
  },
  {
   "cell_type": "markdown",
   "id": "65fe733f",
   "metadata": {},
   "source": [
    "<a name='parsing'></a>\n",
    "## 2. Парсинг данных"
   ]
  },
  {
   "cell_type": "markdown",
   "id": "1e1e5985",
   "metadata": {},
   "source": [
    "Для осуществления парсинга воспользуемся библиотекой selenium. Необходимо получить названия статей, дату их публикации, категории, к которым они относятся, количество голосов и количество просмотров. Для этого будем осуществлять парсинг с помощью бразуера Firefox 50 страниц постов с сайта habr.com по количеству голосов."
   ]
  },
  {
   "cell_type": "code",
   "execution_count": 41,
   "id": "496bd2e7",
   "metadata": {},
   "outputs": [],
   "source": [
    "firefox_opt = Options()\n",
    "firefox_opt.page_load_strategy = 'eager'\n",
    "driver = webdriver.Firefox(options=firefox_opt)\n",
    "\n",
    "habr_url = 'https://habr.com/ru/top/alltime/'"
   ]
  },
  {
   "cell_type": "code",
   "execution_count": 42,
   "id": "9704cbbd",
   "metadata": {},
   "outputs": [],
   "source": [
    "# Функция для получения данных с одной веб-страницы\n",
    "def get_page_data(page_num):\n",
    "    # Заход на веб-страницу\n",
    "    page_url = f'{habr_url}page{page_num}'\n",
    "    driver.get(page_url)\n",
    "    driver.implicitly_wait(5)\n",
    "    \n",
    "    # Прокрутка до конца страницы\n",
    "    driver.execute_script(\"window.scrollTo(0, document.body.scrollHeight);\")\n",
    "    \n",
    "    # Наименования постов\n",
    "    titles = [title.text for title in driver.find_elements(By.CLASS_NAME, 'tm-title__link')]\n",
    "    \n",
    "    # Количество просмотров\n",
    "    view_counts_link = driver.find_elements(By.CLASS_NAME, 'tm-icon-counter__value')\n",
    "    view_counts = []\n",
    "    for view_count in view_counts_link:\n",
    "        if 'M' in view_count.text:\n",
    "            view_counts.append(float(re.split('M', view_count.text)[0]) * 1000)\n",
    "        elif 'K' in view_count.text:\n",
    "            view_counts.append(float(re.split('K', view_count.text)[0]))\n",
    "    \n",
    "    # Категории\n",
    "    categories_link = driver.find_elements(By.CLASS_NAME, 'tm-article-snippet__hubs-container')\n",
    "    categories = []\n",
    "    for category in categories_link:\n",
    "        categories.append([i for i in re.split('\\n', category.text) if i != '*'])\n",
    "\n",
    "    # Дата и время публикации\n",
    "    dates_link = driver.find_elements(By.CSS_SELECTOR, 'time')\n",
    "    dates = [date.get_attribute('datetime') for date in dates_link if 'в' in date.text]\n",
    "    \n",
    "    # Количество голосов\n",
    "    votes_link = driver.find_elements(By.CLASS_NAME, 'tm-votes-meter.tm-data-icons__item')\n",
    "    votes = [int(vote.text.split('+')[1]) for vote in votes_link]\n",
    "    \n",
    "    # Объединение собранных данных в датафрейм\n",
    "    df = pd.concat(\n",
    "        [pd.Series(titles), pd.Series(view_counts), pd.Series(categories), pd.Series(dates), pd.Series(votes)],\n",
    "        axis=1\n",
    "    )\n",
    "    df.columns = ['title', 'view_count', 'category', 'date', 'votes']\n",
    "    \n",
    "    return df"
   ]
  },
  {
   "cell_type": "code",
   "execution_count": 43,
   "id": "bd7e4849",
   "metadata": {
    "scrolled": true
   },
   "outputs": [],
   "source": [
    "# Получим данные с каждой страницы топ-50 по постам\n",
    "df_posts = pd.DataFrame(columns=['title', 'view_count', 'category', 'date'])\n",
    "\n",
    "for n in range(1, 51):\n",
    "    df_posts = df_posts.append(get_page_data(n), ignore_index=True)\n",
    "\n",
    "driver.quit()"
   ]
  },
  {
   "cell_type": "code",
   "execution_count": 45,
   "id": "fcbf4de6",
   "metadata": {},
   "outputs": [
    {
     "data": {
      "text/plain": [
       "title         0\n",
       "view_count    3\n",
       "category      0\n",
       "date          0\n",
       "votes         0\n",
       "dtype: int64"
      ]
     },
     "execution_count": 45,
     "metadata": {},
     "output_type": "execute_result"
    }
   ],
   "source": [
    "# Получим количество пропущенных значений по каждому столбцу\n",
    "df_posts.isna().sum()"
   ]
  },
  {
   "cell_type": "code",
   "execution_count": 46,
   "id": "b05b07d6",
   "metadata": {},
   "outputs": [
    {
     "data": {
      "text/html": [
       "<div>\n",
       "<style scoped>\n",
       "    .dataframe tbody tr th:only-of-type {\n",
       "        vertical-align: middle;\n",
       "    }\n",
       "\n",
       "    .dataframe tbody tr th {\n",
       "        vertical-align: top;\n",
       "    }\n",
       "\n",
       "    .dataframe thead th {\n",
       "        text-align: right;\n",
       "    }\n",
       "</style>\n",
       "<table border=\"1\" class=\"dataframe\">\n",
       "  <thead>\n",
       "    <tr style=\"text-align: right;\">\n",
       "      <th></th>\n",
       "      <th>title</th>\n",
       "      <th>view_count</th>\n",
       "      <th>category</th>\n",
       "      <th>date</th>\n",
       "      <th>votes</th>\n",
       "    </tr>\n",
       "  </thead>\n",
       "  <tbody>\n",
       "    <tr>\n",
       "      <th>0</th>\n",
       "      <td>Делаем приватный монитор из старого LCD монитора</td>\n",
       "      <td>958.0</td>\n",
       "      <td>[DIY или Сделай сам]</td>\n",
       "      <td>2011-11-27T19:21:13.000Z</td>\n",
       "      <td>1448.0</td>\n",
       "    </tr>\n",
       "    <tr>\n",
       "      <th>1</th>\n",
       "      <td>Самый беззащитный — уже не Сапсан. Всё оказало...</td>\n",
       "      <td>524.0</td>\n",
       "      <td>[Информационная безопасность, Системное админи...</td>\n",
       "      <td>2021-01-13T05:51:41.000Z</td>\n",
       "      <td>1447.0</td>\n",
       "    </tr>\n",
       "    <tr>\n",
       "      <th>2</th>\n",
       "      <td>Были получены исходники 3300 глобальных интерн...</td>\n",
       "      <td>268.0</td>\n",
       "      <td>[Информационная безопасность]</td>\n",
       "      <td>2009-09-23T09:17:27.000Z</td>\n",
       "      <td>1154.0</td>\n",
       "    </tr>\n",
       "    <tr>\n",
       "      <th>3</th>\n",
       "      <td>История игрушки. Поле Чудес</td>\n",
       "      <td>290.0</td>\n",
       "      <td>[История IT, Игры и игровые консоли]</td>\n",
       "      <td>2011-07-18T08:23:11.000Z</td>\n",
       "      <td>913.0</td>\n",
       "    </tr>\n",
       "    <tr>\n",
       "      <th>4</th>\n",
       "      <td>[Обновлено в 10:52, 14.12.19] В офисе Nginx пр...</td>\n",
       "      <td>311.0</td>\n",
       "      <td>[Блог компании ITSumma, Nginx, Законодательств...</td>\n",
       "      <td>2019-12-12T12:34:52.000Z</td>\n",
       "      <td>791.0</td>\n",
       "    </tr>\n",
       "  </tbody>\n",
       "</table>\n",
       "</div>"
      ],
      "text/plain": [
       "                                               title  view_count  \\\n",
       "0   Делаем приватный монитор из старого LCD монитора       958.0   \n",
       "1  Самый беззащитный — уже не Сапсан. Всё оказало...       524.0   \n",
       "2  Были получены исходники 3300 глобальных интерн...       268.0   \n",
       "3                        История игрушки. Поле Чудес       290.0   \n",
       "4  [Обновлено в 10:52, 14.12.19] В офисе Nginx пр...       311.0   \n",
       "\n",
       "                                            category  \\\n",
       "0                               [DIY или Сделай сам]   \n",
       "1  [Информационная безопасность, Системное админи...   \n",
       "2                      [Информационная безопасность]   \n",
       "3               [История IT, Игры и игровые консоли]   \n",
       "4  [Блог компании ITSumma, Nginx, Законодательств...   \n",
       "\n",
       "                       date   votes  \n",
       "0  2011-11-27T19:21:13.000Z  1448.0  \n",
       "1  2021-01-13T05:51:41.000Z  1447.0  \n",
       "2  2009-09-23T09:17:27.000Z  1154.0  \n",
       "3  2011-07-18T08:23:11.000Z   913.0  \n",
       "4  2019-12-12T12:34:52.000Z   791.0  "
      ]
     },
     "execution_count": 46,
     "metadata": {},
     "output_type": "execute_result"
    }
   ],
   "source": [
    "# Избавимся от постов, для которых не было обнаружено 'view_count' (их всего 3) \n",
    "df_posts = df_posts[~df_posts['view_count'].isna()].reset_index(drop=True)\n",
    "df_posts.head()"
   ]
  },
  {
   "cell_type": "code",
   "execution_count": 47,
   "id": "dd1be41e",
   "metadata": {},
   "outputs": [],
   "source": [
    "# Сохраним базу данных в отдельный файл 'posts_data.csv'\n",
    "df_posts.to_csv('posts_data.csv')"
   ]
  },
  {
   "cell_type": "markdown",
   "id": "f3c9902e",
   "metadata": {},
   "source": [
    "<a name='preprocessing'></a>\n",
    "## 3. Предобработка данных и Feature Enginnering\n",
    "[Вернуться во Введение](#introduction)"
   ]
  },
  {
   "cell_type": "markdown",
   "id": "c16ab302",
   "metadata": {},
   "source": [
    "Рассмотрим типы данных каждого из столбца и, в случае необходимости, поменяем их."
   ]
  },
  {
   "cell_type": "code",
   "execution_count": 57,
   "id": "f0c15bee",
   "metadata": {},
   "outputs": [
    {
     "data": {
      "text/plain": [
       "title          object\n",
       "view_count    float64\n",
       "category       object\n",
       "date           object\n",
       "votes         float64\n",
       "dtype: object"
      ]
     },
     "execution_count": 57,
     "metadata": {},
     "output_type": "execute_result"
    }
   ],
   "source": [
    "df_posts.dtypes"
   ]
  },
  {
   "cell_type": "markdown",
   "id": "c5acf9ee",
   "metadata": {},
   "source": [
    "Можно заметить, что у параметра 'date' тип данных - object, а необходим datatime. Исправим это, поменяв на нужный тип данных. Это позволит создать дополнительные параметры отдельно по году, месяцу, дню, часу и минуте публикации."
   ]
  },
  {
   "cell_type": "code",
   "execution_count": 58,
   "id": "9cf99e1e",
   "metadata": {},
   "outputs": [
    {
     "data": {
      "text/plain": [
       "0   2011-11-27 19:21:13+00:00\n",
       "1   2021-01-13 05:51:41+00:00\n",
       "2   2009-09-23 09:17:27+00:00\n",
       "3   2011-07-18 08:23:11+00:00\n",
       "4   2019-12-12 12:34:52+00:00\n",
       "Name: date, dtype: datetime64[ns, UTC]"
      ]
     },
     "execution_count": 58,
     "metadata": {},
     "output_type": "execute_result"
    }
   ],
   "source": [
    "df_posts['date'] = pd.to_datetime(df_posts['date'])\n",
    "df_posts['date'].head()"
   ]
  },
  {
   "cell_type": "code",
   "execution_count": 59,
   "id": "518a2f12",
   "metadata": {},
   "outputs": [],
   "source": [
    "# Создадим отдельные переменные с годом, месяцем, днем, часом и минутой публикации\n",
    "df_posts['year'] = df_posts['date'].dt.year\n",
    "df_posts['month'] = df_posts['date'].dt.month\n",
    "df_posts['day'] = df_posts['date'].dt.day\n",
    "df_posts['hour'] = df_posts['date'].dt.hour\n",
    "df_posts['minute'] = df_posts['date'].dt.minute\n",
    "\n",
    "df_posts = df_posts.drop('date', axis=1)"
   ]
  },
  {
   "cell_type": "code",
   "execution_count": 63,
   "id": "e1079de9",
   "metadata": {},
   "outputs": [
    {
     "data": {
      "text/html": [
       "<div>\n",
       "<style scoped>\n",
       "    .dataframe tbody tr th:only-of-type {\n",
       "        vertical-align: middle;\n",
       "    }\n",
       "\n",
       "    .dataframe tbody tr th {\n",
       "        vertical-align: top;\n",
       "    }\n",
       "\n",
       "    .dataframe thead th {\n",
       "        text-align: right;\n",
       "    }\n",
       "</style>\n",
       "<table border=\"1\" class=\"dataframe\">\n",
       "  <thead>\n",
       "    <tr style=\"text-align: right;\">\n",
       "      <th></th>\n",
       "      <th>title</th>\n",
       "      <th>view_count</th>\n",
       "      <th>category</th>\n",
       "      <th>votes</th>\n",
       "      <th>year</th>\n",
       "      <th>month</th>\n",
       "      <th>day</th>\n",
       "      <th>hour</th>\n",
       "      <th>minute</th>\n",
       "    </tr>\n",
       "  </thead>\n",
       "  <tbody>\n",
       "    <tr>\n",
       "      <th>0</th>\n",
       "      <td>Делаем приватный монитор из старого LCD монитора</td>\n",
       "      <td>958.0</td>\n",
       "      <td>[DIY или Сделай сам]</td>\n",
       "      <td>1448.0</td>\n",
       "      <td>2011</td>\n",
       "      <td>11</td>\n",
       "      <td>27</td>\n",
       "      <td>19</td>\n",
       "      <td>21</td>\n",
       "    </tr>\n",
       "    <tr>\n",
       "      <th>1</th>\n",
       "      <td>Самый беззащитный — уже не Сапсан. Всё оказало...</td>\n",
       "      <td>524.0</td>\n",
       "      <td>[Информационная безопасность, Системное админи...</td>\n",
       "      <td>1447.0</td>\n",
       "      <td>2021</td>\n",
       "      <td>1</td>\n",
       "      <td>13</td>\n",
       "      <td>5</td>\n",
       "      <td>51</td>\n",
       "    </tr>\n",
       "    <tr>\n",
       "      <th>2</th>\n",
       "      <td>Были получены исходники 3300 глобальных интерн...</td>\n",
       "      <td>268.0</td>\n",
       "      <td>[Информационная безопасность]</td>\n",
       "      <td>1154.0</td>\n",
       "      <td>2009</td>\n",
       "      <td>9</td>\n",
       "      <td>23</td>\n",
       "      <td>9</td>\n",
       "      <td>17</td>\n",
       "    </tr>\n",
       "    <tr>\n",
       "      <th>3</th>\n",
       "      <td>История игрушки. Поле Чудес</td>\n",
       "      <td>290.0</td>\n",
       "      <td>[История IT, Игры и игровые консоли]</td>\n",
       "      <td>913.0</td>\n",
       "      <td>2011</td>\n",
       "      <td>7</td>\n",
       "      <td>18</td>\n",
       "      <td>8</td>\n",
       "      <td>23</td>\n",
       "    </tr>\n",
       "    <tr>\n",
       "      <th>4</th>\n",
       "      <td>[Обновлено в 10:52, 14.12.19] В офисе Nginx пр...</td>\n",
       "      <td>311.0</td>\n",
       "      <td>[Блог компании ITSumma, Nginx, Законодательств...</td>\n",
       "      <td>791.0</td>\n",
       "      <td>2019</td>\n",
       "      <td>12</td>\n",
       "      <td>12</td>\n",
       "      <td>12</td>\n",
       "      <td>34</td>\n",
       "    </tr>\n",
       "    <tr>\n",
       "      <th>...</th>\n",
       "      <td>...</td>\n",
       "      <td>...</td>\n",
       "      <td>...</td>\n",
       "      <td>...</td>\n",
       "      <td>...</td>\n",
       "      <td>...</td>\n",
       "      <td>...</td>\n",
       "      <td>...</td>\n",
       "      <td>...</td>\n",
       "    </tr>\n",
       "    <tr>\n",
       "      <th>992</th>\n",
       "      <td>Ликбез по типизации в языках программирования</td>\n",
       "      <td>459.0</td>\n",
       "      <td>[Программирование]</td>\n",
       "      <td>225.0</td>\n",
       "      <td>2012</td>\n",
       "      <td>12</td>\n",
       "      <td>3</td>\n",
       "      <td>16</td>\n",
       "      <td>46</td>\n",
       "    </tr>\n",
       "    <tr>\n",
       "      <th>993</th>\n",
       "      <td>Компьютер-флэшка за $25</td>\n",
       "      <td>28.0</td>\n",
       "      <td>[DIY или Сделай сам]</td>\n",
       "      <td>225.0</td>\n",
       "      <td>2011</td>\n",
       "      <td>5</td>\n",
       "      <td>6</td>\n",
       "      <td>9</td>\n",
       "      <td>1</td>\n",
       "    </tr>\n",
       "    <tr>\n",
       "      <th>994</th>\n",
       "      <td>Очередная регистрация ООО или жестокая война с...</td>\n",
       "      <td>15.0</td>\n",
       "      <td>[Законодательство в IT]</td>\n",
       "      <td>225.0</td>\n",
       "      <td>2011</td>\n",
       "      <td>3</td>\n",
       "      <td>8</td>\n",
       "      <td>21</td>\n",
       "      <td>9</td>\n",
       "    </tr>\n",
       "    <tr>\n",
       "      <th>995</th>\n",
       "      <td>По сравнению с тобой большинство людей кажутся...</td>\n",
       "      <td>12.0</td>\n",
       "      <td>[Интерфейсы]</td>\n",
       "      <td>225.0</td>\n",
       "      <td>2010</td>\n",
       "      <td>10</td>\n",
       "      <td>26</td>\n",
       "      <td>12</td>\n",
       "      <td>38</td>\n",
       "    </tr>\n",
       "    <tr>\n",
       "      <th>996</th>\n",
       "      <td>Как же стать злым?</td>\n",
       "      <td>7.7</td>\n",
       "      <td>[IT-компании]</td>\n",
       "      <td>225.0</td>\n",
       "      <td>2010</td>\n",
       "      <td>9</td>\n",
       "      <td>15</td>\n",
       "      <td>12</td>\n",
       "      <td>13</td>\n",
       "    </tr>\n",
       "  </tbody>\n",
       "</table>\n",
       "<p>997 rows × 9 columns</p>\n",
       "</div>"
      ],
      "text/plain": [
       "                                                 title  view_count  \\\n",
       "0     Делаем приватный монитор из старого LCD монитора       958.0   \n",
       "1    Самый беззащитный — уже не Сапсан. Всё оказало...       524.0   \n",
       "2    Были получены исходники 3300 глобальных интерн...       268.0   \n",
       "3                          История игрушки. Поле Чудес       290.0   \n",
       "4    [Обновлено в 10:52, 14.12.19] В офисе Nginx пр...       311.0   \n",
       "..                                                 ...         ...   \n",
       "992      Ликбез по типизации в языках программирования       459.0   \n",
       "993                            Компьютер-флэшка за $25        28.0   \n",
       "994  Очередная регистрация ООО или жестокая война с...        15.0   \n",
       "995  По сравнению с тобой большинство людей кажутся...        12.0   \n",
       "996                                 Как же стать злым?         7.7   \n",
       "\n",
       "                                              category   votes  year  month  \\\n",
       "0                                 [DIY или Сделай сам]  1448.0  2011     11   \n",
       "1    [Информационная безопасность, Системное админи...  1447.0  2021      1   \n",
       "2                        [Информационная безопасность]  1154.0  2009      9   \n",
       "3                 [История IT, Игры и игровые консоли]   913.0  2011      7   \n",
       "4    [Блог компании ITSumma, Nginx, Законодательств...   791.0  2019     12   \n",
       "..                                                 ...     ...   ...    ...   \n",
       "992                                 [Программирование]   225.0  2012     12   \n",
       "993                               [DIY или Сделай сам]   225.0  2011      5   \n",
       "994                            [Законодательство в IT]   225.0  2011      3   \n",
       "995                                       [Интерфейсы]   225.0  2010     10   \n",
       "996                                      [IT-компании]   225.0  2010      9   \n",
       "\n",
       "     day  hour  minute  \n",
       "0     27    19      21  \n",
       "1     13     5      51  \n",
       "2     23     9      17  \n",
       "3     18     8      23  \n",
       "4     12    12      34  \n",
       "..   ...   ...     ...  \n",
       "992    3    16      46  \n",
       "993    6     9       1  \n",
       "994    8    21       9  \n",
       "995   26    12      38  \n",
       "996   15    12      13  \n",
       "\n",
       "[997 rows x 9 columns]"
      ]
     },
     "execution_count": 63,
     "metadata": {},
     "output_type": "execute_result"
    }
   ],
   "source": [
    "df_posts"
   ]
  },
  {
   "cell_type": "code",
   "execution_count": null,
   "id": "acf4ebf4",
   "metadata": {},
   "outputs": [],
   "source": []
  }
 ],
 "metadata": {
  "kernelspec": {
   "display_name": "Python 3",
   "language": "python",
   "name": "python3"
  },
  "language_info": {
   "codemirror_mode": {
    "name": "ipython",
    "version": 3
   },
   "file_extension": ".py",
   "mimetype": "text/x-python",
   "name": "python",
   "nbconvert_exporter": "python",
   "pygments_lexer": "ipython3",
   "version": "3.8.8"
  }
 },
 "nbformat": 4,
 "nbformat_minor": 5
}
