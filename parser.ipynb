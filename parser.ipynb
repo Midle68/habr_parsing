{
 "cells": [
  {
   "cell_type": "markdown",
   "id": "8414d018",
   "metadata": {},
   "source": [
    "# Парсинг данных\n",
    "\n",
    "В рамках данного проекта необходимо осуществить парсинг данных с веб-сайта. В качества веб-сайта взят habr.com. Необходимо осуществить парсинг лучших постов за все время. Данные для парсинга: 1) параметры - наименование статьи, дата загрузки, категория, к которой пост относится; количество голосов и 2) целевой показатель - число просмотров. Параметр 'количество голосов' можно также использовать как целевой показатель, поэтому и информация по нему была собрана. Однако в качестве независимого параметра он не подходит, поскольку может сильно зависеть от количества просмотров.\n",
    "\n",
    "В дальнейшем можно рассмотреть не только лучшие за все время посты, но и увеличить выборку еще б**о**льшим объемом повседневных постов.\n",
    "\n",
    "Объем выборки составил 997 статей (для 3 не было обнаружено количество просмотров, поэтому от них решено было избавиться. В дополнение, результат работы парсера (база данных) был сохранен в отдельный файл 'posts_data.csv')\n",
    "\n",
    "<br>**План проекта**:\n",
    "1. Импортирование библиотек\n",
    "2. Парсинг данных\n",
    "3. Сохранение базы данных"
   ]
  },
  {
   "cell_type": "markdown",
   "id": "c74627e2",
   "metadata": {},
   "source": [
    "## 1. Импортирование библиотек"
   ]
  },
  {
   "cell_type": "code",
   "execution_count": 1,
   "id": "d9e7bd19",
   "metadata": {},
   "outputs": [
    {
     "data": {
      "text/plain": [
       "'\\nfrom bs4 import BeautifulSoup\\nimport os\\nimport concurrent.futures\\nfrom concurrent.futures import ProcessPoolExecutor, ThreadPoolExecutor\\nfrom itertools import cycle\\n'"
      ]
     },
     "execution_count": 1,
     "metadata": {},
     "output_type": "execute_result"
    }
   ],
   "source": [
    "from selenium import webdriver\n",
    "from selenium.webdriver.common.by import By\n",
    "from selenium.webdriver.firefox.options import Options\n",
    "import time\n",
    "import re\n",
    "import pandas as pd\n",
    "\n",
    "'''\n",
    "from bs4 import BeautifulSoup\n",
    "import os\n",
    "import concurrent.futures\n",
    "from concurrent.futures import ProcessPoolExecutor, ThreadPoolExecutor\n",
    "from itertools import cycle\n",
    "'''"
   ]
  },
  {
   "cell_type": "markdown",
   "id": "65fe733f",
   "metadata": {},
   "source": [
    "## 2. Парсинг данных"
   ]
  },
  {
   "cell_type": "code",
   "execution_count": 13,
   "id": "496bd2e7",
   "metadata": {},
   "outputs": [],
   "source": [
    "firefox_opt = Options()\n",
    "firefox_opt.page_load_strategy = 'eager'\n",
    "driver = webdriver.Firefox(options=firefox_opt)\n",
    "\n",
    "habr_url = 'https://habr.com/ru/top/alltime/'"
   ]
  },
  {
   "cell_type": "code",
   "execution_count": 14,
   "id": "9704cbbd",
   "metadata": {},
   "outputs": [],
   "source": [
    "# Функция для получения данных с одной веб-страницы\n",
    "def get_page_data(page_num):\n",
    "    # Заход на веб-страницу\n",
    "    page_url = f'{habr_url}page{page_num}'\n",
    "    driver.get(page_url)\n",
    "    driver.implicitly_wait(5)\n",
    "    \n",
    "    # Прокрутка до конца страницы\n",
    "    driver.execute_script(\"window.scrollTo(0, document.body.scrollHeight);\")\n",
    "    \n",
    "    # Наименования постов\n",
    "    titles = [title.text for title in driver.find_elements(By.CLASS_NAME, 'tm-title__link')]\n",
    "    \n",
    "    # Количество просмотров\n",
    "    view_counts_link = driver.find_elements(By.CLASS_NAME, 'tm-icon-counter__value')\n",
    "    view_counts = []\n",
    "    for view_count in view_counts_link:\n",
    "        if 'M' in view_count.text:\n",
    "            view_counts.append(float(re.split('M', view_count.text)[0]) * 1000)\n",
    "        elif 'K' in view_count.text:\n",
    "            view_counts.append(float(re.split('K', view_count.text)[0]))\n",
    "    \n",
    "    # Категории\n",
    "    categories_link = driver.find_elements(By.CLASS_NAME, 'tm-article-snippet__hubs-container')\n",
    "    categories = []\n",
    "    for category in categories_link:\n",
    "        categories.append([i for i in re.split('\\n', category.text) if i != '*'])\n",
    "\n",
    "    # Дата и время публикации\n",
    "    dates_link = driver.find_elements(By.CSS_SELECTOR, 'time')\n",
    "    dates = [date.get_attribute('datetime') for date in dates_link if 'в' in date.text]\n",
    "    \n",
    "    # Количество голосов\n",
    "    votes_link = driver.find_elements(By.CLASS_NAME, 'tm-votes-meter.tm-data-icons__item')\n",
    "    votes = [vote.text.split('+')[0] for vote in votes_link]\n",
    "    \n",
    "    # Объединение собранных данных в датафрейм\n",
    "    df = pd.concat(\n",
    "        [pd.Series(titles), pd.Series(view_counts), pd.Series(categories), pd.Series(dates)],\n",
    "        axis=1\n",
    "    )\n",
    "    df.columns = ['title', 'view_count', 'category', 'date']\n",
    "    \n",
    "    return df"
   ]
  },
  {
   "cell_type": "code",
   "execution_count": 15,
   "id": "bd7e4849",
   "metadata": {
    "scrolled": true
   },
   "outputs": [],
   "source": [
    "# Получим данные с каждой страницы топ-50 по постам\n",
    "df_posts = pd.DataFrame(columns=['title', 'view_count', 'category', 'date'])\n",
    "\n",
    "for n in range(1, 51):\n",
    "    df_posts = df_posts.append(get_page_data(n), ignore_index=True)\n",
    "\n",
    "driver.quit()"
   ]
  },
  {
   "cell_type": "code",
   "execution_count": 23,
   "id": "9588669d",
   "metadata": {},
   "outputs": [
    {
     "data": {
      "text/plain": [
       "title         0\n",
       "view_count    0\n",
       "category      0\n",
       "date          0\n",
       "dtype: int64"
      ]
     },
     "execution_count": 23,
     "metadata": {},
     "output_type": "execute_result"
    }
   ],
   "source": [
    "# Получим количество пропущенных значений по каждому столбцу\n",
    "df_posts.isna().sum()"
   ]
  },
  {
   "cell_type": "code",
   "execution_count": 21,
   "id": "b05b07d6",
   "metadata": {},
   "outputs": [
    {
     "data": {
      "text/html": [
       "<div>\n",
       "<style scoped>\n",
       "    .dataframe tbody tr th:only-of-type {\n",
       "        vertical-align: middle;\n",
       "    }\n",
       "\n",
       "    .dataframe tbody tr th {\n",
       "        vertical-align: top;\n",
       "    }\n",
       "\n",
       "    .dataframe thead th {\n",
       "        text-align: right;\n",
       "    }\n",
       "</style>\n",
       "<table border=\"1\" class=\"dataframe\">\n",
       "  <thead>\n",
       "    <tr style=\"text-align: right;\">\n",
       "      <th></th>\n",
       "      <th>title</th>\n",
       "      <th>view_count</th>\n",
       "      <th>category</th>\n",
       "      <th>date</th>\n",
       "    </tr>\n",
       "  </thead>\n",
       "  <tbody>\n",
       "    <tr>\n",
       "      <th>0</th>\n",
       "      <td>Делаем приватный монитор из старого LCD монитора</td>\n",
       "      <td>958.0</td>\n",
       "      <td>[DIY или Сделай сам]</td>\n",
       "      <td>2011-11-27T19:21:13.000Z</td>\n",
       "    </tr>\n",
       "    <tr>\n",
       "      <th>1</th>\n",
       "      <td>Самый беззащитный — уже не Сапсан. Всё оказало...</td>\n",
       "      <td>524.0</td>\n",
       "      <td>[Информационная безопасность, Системное админи...</td>\n",
       "      <td>2021-01-13T05:51:41.000Z</td>\n",
       "    </tr>\n",
       "    <tr>\n",
       "      <th>2</th>\n",
       "      <td>Были получены исходники 3300 глобальных интерн...</td>\n",
       "      <td>268.0</td>\n",
       "      <td>[Информационная безопасность]</td>\n",
       "      <td>2009-09-23T09:17:27.000Z</td>\n",
       "    </tr>\n",
       "    <tr>\n",
       "      <th>3</th>\n",
       "      <td>История игрушки. Поле Чудес</td>\n",
       "      <td>290.0</td>\n",
       "      <td>[История IT, Игры и игровые консоли]</td>\n",
       "      <td>2011-07-18T08:23:11.000Z</td>\n",
       "    </tr>\n",
       "    <tr>\n",
       "      <th>4</th>\n",
       "      <td>[Обновлено в 10:52, 14.12.19] В офисе Nginx пр...</td>\n",
       "      <td>311.0</td>\n",
       "      <td>[Блог компании ITSumma, Nginx, Законодательств...</td>\n",
       "      <td>2019-12-12T12:34:52.000Z</td>\n",
       "    </tr>\n",
       "  </tbody>\n",
       "</table>\n",
       "</div>"
      ],
      "text/plain": [
       "                                               title  view_count  \\\n",
       "0   Делаем приватный монитор из старого LCD монитора       958.0   \n",
       "1  Самый беззащитный — уже не Сапсан. Всё оказало...       524.0   \n",
       "2  Были получены исходники 3300 глобальных интерн...       268.0   \n",
       "3                        История игрушки. Поле Чудес       290.0   \n",
       "4  [Обновлено в 10:52, 14.12.19] В офисе Nginx пр...       311.0   \n",
       "\n",
       "                                            category                      date  \n",
       "0                               [DIY или Сделай сам]  2011-11-27T19:21:13.000Z  \n",
       "1  [Информационная безопасность, Системное админи...  2021-01-13T05:51:41.000Z  \n",
       "2                      [Информационная безопасность]  2009-09-23T09:17:27.000Z  \n",
       "3               [История IT, Игры и игровые консоли]  2011-07-18T08:23:11.000Z  \n",
       "4  [Блог компании ITSumma, Nginx, Законодательств...  2019-12-12T12:34:52.000Z  "
      ]
     },
     "execution_count": 21,
     "metadata": {},
     "output_type": "execute_result"
    }
   ],
   "source": [
    "# Избавимся от постов, для которых не было обнаружено 'view_count' (их всего 3) \n",
    "df_posts = df_posts[~df_posts['view_count'].isna()].reset_index(drop=True)\n",
    "df_posts.head()"
   ]
  },
  {
   "cell_type": "markdown",
   "id": "c4c59671",
   "metadata": {},
   "source": [
    "## 3. Сохранение данных"
   ]
  },
  {
   "cell_type": "code",
   "execution_count": 24,
   "id": "879e817e",
   "metadata": {},
   "outputs": [],
   "source": [
    "df_posts.to_csv('posts_data.csv')"
   ]
  },
  {
   "cell_type": "code",
   "execution_count": null,
   "id": "864c1597",
   "metadata": {},
   "outputs": [],
   "source": []
  }
 ],
 "metadata": {
  "kernelspec": {
   "display_name": "Python 3",
   "language": "python",
   "name": "python3"
  },
  "language_info": {
   "codemirror_mode": {
    "name": "ipython",
    "version": 3
   },
   "file_extension": ".py",
   "mimetype": "text/x-python",
   "name": "python",
   "nbconvert_exporter": "python",
   "pygments_lexer": "ipython3",
   "version": "3.8.8"
  }
 },
 "nbformat": 4,
 "nbformat_minor": 5
}
