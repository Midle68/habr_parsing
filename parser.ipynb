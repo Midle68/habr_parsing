{
 "cells": [
  {
   "cell_type": "markdown",
   "id": "8414d018",
   "metadata": {},
   "source": [
    "# Парсинг данных\n",
    "\n",
    "В рамках данного проекта необходимо осуществить парсинг данных с веб-сайта. В качества веб-сайта взят habr.com. Необходимо осуществить парсинг лучших постов за все время. Данные для парсинга: 1) параметры - наименование статьи, дата загрузки, категория, к которой пост относится, и 2) целевой показатель - число просмотров. \n",
    "\n",
    "В дальнейшем можно рассмотреть не только лучшие за все ремя посты, но и увеличить выборку еще большим объемом повседневных постов.\n",
    "\n",
    "На данный момент объем выборки должен составить 1000 статей (20 объектов на странице, всего 50 страниц).\n",
    "\n",
    "<br>**План проекта**:\n",
    "1. Импортирование библиотек\n",
    "2. Парсинг данных\n",
    "3. Сохранение базы данных"
   ]
  },
  {
   "cell_type": "markdown",
   "id": "c74627e2",
   "metadata": {},
   "source": [
    "## 1. Импортирование библиотек"
   ]
  },
  {
   "cell_type": "code",
   "execution_count": 1,
   "id": "d9e7bd19",
   "metadata": {},
   "outputs": [
    {
     "data": {
      "text/plain": [
       "'\\nfrom bs4 import BeautifulSoup\\nimport os\\nimport concurrent.futures\\nfrom concurrent.futures import ProcessPoolExecutor, ThreadPoolExecutor\\nfrom itertools import cycle\\n'"
      ]
     },
     "execution_count": 1,
     "metadata": {},
     "output_type": "execute_result"
    }
   ],
   "source": [
    "from selenium import webdriver\n",
    "from selenium.webdriver.common.by import By\n",
    "import time\n",
    "import re\n",
    "import pandas as pd\n",
    "\n",
    "'''\n",
    "from bs4 import BeautifulSoup\n",
    "import os\n",
    "import concurrent.futures\n",
    "from concurrent.futures import ProcessPoolExecutor, ThreadPoolExecutor\n",
    "from itertools import cycle\n",
    "'''"
   ]
  },
  {
   "cell_type": "markdown",
   "id": "65fe733f",
   "metadata": {},
   "source": [
    "## 2. Парсинг данных"
   ]
  },
  {
   "cell_type": "code",
   "execution_count": 2,
   "id": "61ad6c56",
   "metadata": {},
   "outputs": [],
   "source": [
    "# Ссылка на Habr и открытие браузера Chrome\n",
    "habr_url = 'https://habr.com/ru/top/alltime/'\n",
    "driver = webdriver.Chrome()"
   ]
  },
  {
   "cell_type": "code",
   "execution_count": 3,
   "id": "9704cbbd",
   "metadata": {},
   "outputs": [],
   "source": [
    "# Функция для получения данных с одной веб-страницы\n",
    "def get_page_data(page_num):\n",
    "    # Заход на веб-страницу\n",
    "    page_url = f'{habr_url}page{page_num}'\n",
    "    driver.get(page_url)\n",
    "    time.sleep(2)\n",
    "    \n",
    "    # Прокрутка до конца страницы\n",
    "    driver.execute_script(\"window.scrollTo(0, document.body.scrollHeight);\")\n",
    "    \n",
    "    # Наименования постов\n",
    "    titles = [title.text for title in driver.find_elements(By.CLASS_NAME, 'tm-title__link')]\n",
    "    \n",
    "    # Количество просмотров\n",
    "    view_counts_link = driver.find_elements(By.CLASS_NAME, 'tm-icon-counter__value')\n",
    "    view_counts = []\n",
    "    for view_count in view_counts_link:\n",
    "        if 'M' in view_count.text:\n",
    "            view_counts.append(float(re.split('M', view_count.text)[0]) * 1000)\n",
    "        elif 'K' in view_count.text:\n",
    "            view_counts.append(float(re.split('K', view_count.text)[0]))\n",
    "    \n",
    "    # Категории\n",
    "    categories_link = driver.find_elements(By.CLASS_NAME, 'tm-article-snippet__hubs-container')\n",
    "    categories = []\n",
    "    for category in categories_link:\n",
    "        categories.append([i for i in re.split('\\n', category.text) if i != '*'])\n",
    "\n",
    "    # Дата и время публикации\n",
    "    dates_link = driver.find_elements(By.CSS_SELECTOR, 'time')\n",
    "    dates = []\n",
    "    for date in driver.find_elements(By.CSS_SELECTOR, 'time'):\n",
    "        if 'в' in date.text:\n",
    "            dates.append(date.get_attribute('datetime'))\n",
    "    \n",
    "    df = pd.concat(\n",
    "        [pd.Series(titles[:20]), pd.Series(view_counts[:20]), pd.Series(categories[:20]), pd.Series(dates[:20])],\n",
    "        axis=1\n",
    "    )\n",
    "    \n",
    "    df.columns = ['title', 'view_count', 'category', 'date']\n",
    "    \n",
    "    return df"
   ]
  },
  {
   "cell_type": "code",
   "execution_count": 4,
   "id": "bd7e4849",
   "metadata": {},
   "outputs": [],
   "source": [
    "df_posts = pd.DataFrame(columns=['title', 'view_count', 'category', 'date'])\n",
    "\n",
    "for n in range(1, 51):\n",
    "    df_posts = df_posts.append(get_page_data(n), ignore_index=True)"
   ]
  },
  {
   "cell_type": "code",
   "execution_count": 7,
   "id": "9e100851",
   "metadata": {},
   "outputs": [
    {
     "data": {
      "text/html": [
       "<div>\n",
       "<style scoped>\n",
       "    .dataframe tbody tr th:only-of-type {\n",
       "        vertical-align: middle;\n",
       "    }\n",
       "\n",
       "    .dataframe tbody tr th {\n",
       "        vertical-align: top;\n",
       "    }\n",
       "\n",
       "    .dataframe thead th {\n",
       "        text-align: right;\n",
       "    }\n",
       "</style>\n",
       "<table border=\"1\" class=\"dataframe\">\n",
       "  <thead>\n",
       "    <tr style=\"text-align: right;\">\n",
       "      <th></th>\n",
       "      <th>title</th>\n",
       "      <th>view_count</th>\n",
       "      <th>category</th>\n",
       "      <th>date</th>\n",
       "    </tr>\n",
       "  </thead>\n",
       "  <tbody>\n",
       "    <tr>\n",
       "      <th>995</th>\n",
       "      <td>Ликбез по типизации в языках программирования</td>\n",
       "      <td>459.0</td>\n",
       "      <td>[Программирование]</td>\n",
       "      <td>2012-12-03T16:46:41.000Z</td>\n",
       "    </tr>\n",
       "    <tr>\n",
       "      <th>996</th>\n",
       "      <td>Компьютер-флэшка за $25</td>\n",
       "      <td>28.0</td>\n",
       "      <td>[DIY или Сделай сам]</td>\n",
       "      <td>2011-05-06T09:01:18.000Z</td>\n",
       "    </tr>\n",
       "    <tr>\n",
       "      <th>997</th>\n",
       "      <td>Очередная регистрация ООО или жестокая война с...</td>\n",
       "      <td>15.0</td>\n",
       "      <td>[Законодательство в IT]</td>\n",
       "      <td>2011-03-08T21:09:34.000Z</td>\n",
       "    </tr>\n",
       "    <tr>\n",
       "      <th>998</th>\n",
       "      <td>По сравнению с тобой большинство людей кажутся...</td>\n",
       "      <td>12.0</td>\n",
       "      <td>[Интерфейсы]</td>\n",
       "      <td>2010-10-26T12:38:41.000Z</td>\n",
       "    </tr>\n",
       "    <tr>\n",
       "      <th>999</th>\n",
       "      <td>Как же стать злым?</td>\n",
       "      <td>7.7</td>\n",
       "      <td>[IT-компании]</td>\n",
       "      <td>2010-09-15T12:13:08.000Z</td>\n",
       "    </tr>\n",
       "  </tbody>\n",
       "</table>\n",
       "</div>"
      ],
      "text/plain": [
       "                                                 title  view_count  \\\n",
       "995      Ликбез по типизации в языках программирования       459.0   \n",
       "996                            Компьютер-флэшка за $25        28.0   \n",
       "997  Очередная регистрация ООО или жестокая война с...        15.0   \n",
       "998  По сравнению с тобой большинство людей кажутся...        12.0   \n",
       "999                                 Как же стать злым?         7.7   \n",
       "\n",
       "                    category                      date  \n",
       "995       [Программирование]  2012-12-03T16:46:41.000Z  \n",
       "996     [DIY или Сделай сам]  2011-05-06T09:01:18.000Z  \n",
       "997  [Законодательство в IT]  2011-03-08T21:09:34.000Z  \n",
       "998             [Интерфейсы]  2010-10-26T12:38:41.000Z  \n",
       "999            [IT-компании]  2010-09-15T12:13:08.000Z  "
      ]
     },
     "execution_count": 7,
     "metadata": {},
     "output_type": "execute_result"
    }
   ],
   "source": [
    "df_posts.tail()"
   ]
  },
  {
   "cell_type": "markdown",
   "id": "c4c59671",
   "metadata": {},
   "source": [
    "## 3. Сохранение данных"
   ]
  },
  {
   "cell_type": "code",
   "execution_count": 6,
   "id": "879e817e",
   "metadata": {},
   "outputs": [],
   "source": [
    "df_posts.to_csv('posts_data.csv')"
   ]
  },
  {
   "cell_type": "code",
   "execution_count": null,
   "id": "864c1597",
   "metadata": {},
   "outputs": [],
   "source": []
  }
 ],
 "metadata": {
  "kernelspec": {
   "display_name": "Python 3",
   "language": "python",
   "name": "python3"
  },
  "language_info": {
   "codemirror_mode": {
    "name": "ipython",
    "version": 3
   },
   "file_extension": ".py",
   "mimetype": "text/x-python",
   "name": "python",
   "nbconvert_exporter": "python",
   "pygments_lexer": "ipython3",
   "version": "3.8.8"
  }
 },
 "nbformat": 4,
 "nbformat_minor": 5
}
