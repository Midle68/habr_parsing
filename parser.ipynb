{
 "cells": [
  {
   "cell_type": "markdown",
   "id": "8414d018",
   "metadata": {},
   "source": [
    "# Парсинг данных\n",
    "\n",
    "В рамках данного проекта необходимо осуществить парсинг данных с веб-сайта. В качества веб-сайта взят habr.com. Необходимо осуществить парсинг лучших постов за все время. Данные для парсинга: 1) параметры - наименование статьи, дата загрузки, категория, к которой пост относится, и 2) целевой показатель - число просмотров. \n",
    "\n",
    "В дальнейшем можно рассмотреть не только лучшие за все ремя посты, но и увеличить выборку еще большим объемом повседневных постов.\n",
    "\n",
    "На данный момент объем выборки должен составить 1000 статей (20 объектов на странице, всего 50 страниц).\n",
    "\n",
    "<br>**План проекта**:\n",
    "1. Импортирование библиотек\n",
    "2. Парсинг данных\n",
    "3. Сохранение базы данных"
   ]
  },
  {
   "cell_type": "markdown",
   "id": "c74627e2",
   "metadata": {},
   "source": [
    "## 1. Импортирование библиотек"
   ]
  },
  {
   "cell_type": "code",
   "execution_count": 17,
   "id": "d9e7bd19",
   "metadata": {},
   "outputs": [
    {
     "data": {
      "text/plain": [
       "'\\nfrom bs4 import BeautifulSoup\\nimport os\\nimport concurrent.futures\\nfrom concurrent.futures import ProcessPoolExecutor, ThreadPoolExecutor\\nfrom itertools import cycle\\n'"
      ]
     },
     "execution_count": 17,
     "metadata": {},
     "output_type": "execute_result"
    }
   ],
   "source": [
    "from selenium import webdriver\n",
    "from selenium.webdriver.common.by import By\n",
    "from selenium.webdriver.firefox.options import Options\n",
    "import time\n",
    "import re\n",
    "import pandas as pd\n",
    "\n",
    "'''\n",
    "from bs4 import BeautifulSoup\n",
    "import os\n",
    "import concurrent.futures\n",
    "from concurrent.futures import ProcessPoolExecutor, ThreadPoolExecutor\n",
    "from itertools import cycle\n",
    "'''"
   ]
  },
  {
   "cell_type": "markdown",
   "id": "65fe733f",
   "metadata": {},
   "source": [
    "## 2. Парсинг данных"
   ]
  },
  {
   "cell_type": "code",
   "execution_count": 38,
   "id": "9fcadf50",
   "metadata": {},
   "outputs": [],
   "source": [
    "firefox_opt = Options()\n",
    "firefox_opt.page_load_strategy = 'eager'\n",
    "driver = webdriver.Firefox(options=firefox_opt)\n",
    "\n",
    "habr_url = 'https://habr.com/ru/top/alltime/'"
   ]
  },
  {
   "cell_type": "code",
   "execution_count": 39,
   "id": "9704cbbd",
   "metadata": {},
   "outputs": [],
   "source": [
    "# Функция для получения данных с одной веб-страницы\n",
    "def get_page_data(page_num):\n",
    "    # Заход на веб-страницу\n",
    "    page_url = f'{habr_url}page{page_num}'\n",
    "    driver.get(page_url)\n",
    "    driver.implicitly_wait(5)\n",
    "    \n",
    "    # Прокрутка до конца страницы\n",
    "    driver.execute_script(\"window.scrollTo(0, document.body.scrollHeight);\")\n",
    "    \n",
    "    # Наименования постов\n",
    "    titles = [title.text for title in driver.find_elements(By.CLASS_NAME, 'tm-title__link')]\n",
    "    \n",
    "    # Количество просмотров\n",
    "    view_counts_link = driver.find_elements(By.CLASS_NAME, 'tm-icon-counter__value')\n",
    "    view_counts = []\n",
    "    for view_count in view_counts_link:\n",
    "        if 'M' in view_count.text:\n",
    "            view_counts.append(float(re.split('M', view_count.text)[0]) * 1000)\n",
    "        elif 'K' in view_count.text:\n",
    "            view_counts.append(float(re.split('K', view_count.text)[0]))\n",
    "    \n",
    "    # Категории\n",
    "    categories_link = driver.find_elements(By.CLASS_NAME, 'tm-article-snippet__hubs-container')\n",
    "    categories = []\n",
    "    for category in categories_link:\n",
    "        categories.append([i for i in re.split('\\n', category.text) if i != '*'])\n",
    "\n",
    "    # Дата и время публикации\n",
    "    dates_link = driver.find_elements(By.CSS_SELECTOR, 'time')\n",
    "    dates = []\n",
    "    for date in dates_link:\n",
    "        if 'в' in date.text:\n",
    "            dates.append(date.get_attribute('datetime'))\n",
    "    \n",
    "    df = pd.concat(\n",
    "        [pd.Series(titles), pd.Series(view_counts), pd.Series(categories), pd.Series(dates)],\n",
    "        axis=1\n",
    "    )\n",
    "    \n",
    "    df.columns = ['title', 'view_count', 'category', 'date']\n",
    "    \n",
    "    return df"
   ]
  },
  {
   "cell_type": "code",
   "execution_count": 40,
   "id": "bd7e4849",
   "metadata": {
    "scrolled": true
   },
   "outputs": [
    {
     "name": "stdout",
     "output_type": "stream",
     "text": [
      "25\n",
      "20\n",
      "20\n",
      "20\n",
      "20\n",
      "20\n",
      "20\n",
      "20\n",
      "20\n",
      "20\n",
      "20\n",
      "20\n",
      "20\n",
      "20\n",
      "20\n",
      "20\n",
      "20\n",
      "20\n",
      "20\n",
      "20\n",
      "20\n",
      "20\n",
      "20\n",
      "20\n",
      "20\n",
      "20\n",
      "20\n",
      "20\n",
      "20\n",
      "20\n",
      "20\n",
      "20\n",
      "20\n",
      "20\n",
      "20\n",
      "20\n",
      "20\n",
      "20\n",
      "20\n",
      "20\n",
      "20\n",
      "20\n",
      "20\n",
      "20\n",
      "20\n",
      "20\n",
      "20\n",
      "20\n",
      "20\n",
      "20\n"
     ]
    }
   ],
   "source": [
    "df_posts = pd.DataFrame(columns=['title', 'view_count', 'category', 'date'])\n",
    "\n",
    "for n in range(1, 51):\n",
    "    df_posts = df_posts.append(get_page_data(n), ignore_index=True)\n",
    "\n",
    "driver.quit()"
   ]
  },
  {
   "cell_type": "code",
   "execution_count": 50,
   "id": "d83f6bf3",
   "metadata": {},
   "outputs": [],
   "source": [
    "df_posts = df_posts[~df_posts['title'].isna()].reset_index(drop=True)"
   ]
  },
  {
   "cell_type": "code",
   "execution_count": 53,
   "id": "8735da02",
   "metadata": {},
   "outputs": [
    {
     "data": {
      "text/html": [
       "<div>\n",
       "<style scoped>\n",
       "    .dataframe tbody tr th:only-of-type {\n",
       "        vertical-align: middle;\n",
       "    }\n",
       "\n",
       "    .dataframe tbody tr th {\n",
       "        vertical-align: top;\n",
       "    }\n",
       "\n",
       "    .dataframe thead th {\n",
       "        text-align: right;\n",
       "    }\n",
       "</style>\n",
       "<table border=\"1\" class=\"dataframe\">\n",
       "  <thead>\n",
       "    <tr style=\"text-align: right;\">\n",
       "      <th></th>\n",
       "      <th>title</th>\n",
       "      <th>view_count</th>\n",
       "      <th>category</th>\n",
       "      <th>date</th>\n",
       "    </tr>\n",
       "  </thead>\n",
       "  <tbody>\n",
       "    <tr>\n",
       "      <th>339</th>\n",
       "      <td>Заблуждения программистов о картах</td>\n",
       "      <td>NaN</td>\n",
       "      <td>[Глобальные системы позиционирования, Программ...</td>\n",
       "      <td>2022-09-01T14:41:54.000Z</td>\n",
       "    </tr>\n",
       "    <tr>\n",
       "      <th>739</th>\n",
       "      <td>Пара лайфхаков нашего интернет-магазина</td>\n",
       "      <td>NaN</td>\n",
       "      <td>[Блог компании Мосигра]</td>\n",
       "      <td>2013-11-05T04:57:08.000Z</td>\n",
       "    </tr>\n",
       "    <tr>\n",
       "      <th>899</th>\n",
       "      <td>Весенний апдейт, ч.1 «Торт»</td>\n",
       "      <td>NaN</td>\n",
       "      <td>[Блог компании Хабр, Habr]</td>\n",
       "      <td>2011-03-17T16:48:28.000Z</td>\n",
       "    </tr>\n",
       "  </tbody>\n",
       "</table>\n",
       "</div>"
      ],
      "text/plain": [
       "                                       title  view_count  \\\n",
       "339       Заблуждения программистов о картах         NaN   \n",
       "739  Пара лайфхаков нашего интернет-магазина         NaN   \n",
       "899              Весенний апдейт, ч.1 «Торт»         NaN   \n",
       "\n",
       "                                              category  \\\n",
       "339  [Глобальные системы позиционирования, Программ...   \n",
       "739                            [Блог компании Мосигра]   \n",
       "899                         [Блог компании Хабр, Habr]   \n",
       "\n",
       "                         date  \n",
       "339  2022-09-01T14:41:54.000Z  \n",
       "739  2013-11-05T04:57:08.000Z  \n",
       "899  2011-03-17T16:48:28.000Z  "
      ]
     },
     "execution_count": 53,
     "metadata": {},
     "output_type": "execute_result"
    }
   ],
   "source": [
    "df_posts[df_posts['view_count'].isna()]"
   ]
  },
  {
   "cell_type": "markdown",
   "id": "c4c59671",
   "metadata": {},
   "source": [
    "## 3. Сохранение данных"
   ]
  },
  {
   "cell_type": "code",
   "execution_count": null,
   "id": "879e817e",
   "metadata": {},
   "outputs": [],
   "source": [
    "df_posts.to_csv('posts_data.csv')"
   ]
  },
  {
   "cell_type": "code",
   "execution_count": null,
   "id": "864c1597",
   "metadata": {},
   "outputs": [],
   "source": []
  }
 ],
 "metadata": {
  "kernelspec": {
   "display_name": "Python 3",
   "language": "python",
   "name": "python3"
  },
  "language_info": {
   "codemirror_mode": {
    "name": "ipython",
    "version": 3
   },
   "file_extension": ".py",
   "mimetype": "text/x-python",
   "name": "python",
   "nbconvert_exporter": "python",
   "pygments_lexer": "ipython3",
   "version": "3.8.8"
  }
 },
 "nbformat": 4,
 "nbformat_minor": 5
}
