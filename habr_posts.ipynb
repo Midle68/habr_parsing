{
 "cells": [
  {
   "cell_type": "markdown",
   "id": "aa9175ab",
   "metadata": {},
   "source": [
    "<a name='introduction'></a>\n",
    "# Проект Посты на Habr.com\n",
    "\n",
    "В рамках данного проекта осуществим исследовательский анализ данных о постах на Habr.com. Даны наименования статей, количество просмотров (в тыс.), категории, к которым статьи относятся, и даты публикаций\n",
    "\n",
    "<br>**План работы**:\n",
    "1. [Импортирование библиотек и первичный анализ данных](#import)\n",
    "2. [Предобработка данных](#preprocessing)\n",
    "    - [date](#date)\n",
    "    - [category](#category)\n",
    "    - [title](#title)\n",
    "3. [Исследовательский анализ данных](#eda)"
   ]
  },
  {
   "cell_type": "markdown",
   "id": "73f2c46c",
   "metadata": {},
   "source": [
    "<a name='import'></a>\n",
    "## 1. Импортирование библиотек и первичный анализ данных"
   ]
  },
  {
   "cell_type": "code",
   "execution_count": 1,
   "id": "f2c7cae0",
   "metadata": {},
   "outputs": [],
   "source": [
    "import datetime as dt\n",
    "import matplotlib.pyplot as plt\n",
    "import numpy as np\n",
    "import pandas as pd\n",
    "\n",
    "from ast import literal_eval"
   ]
  },
  {
   "cell_type": "code",
   "execution_count": 2,
   "id": "0e6efc35",
   "metadata": {},
   "outputs": [
    {
     "data": {
      "text/html": [
       "<div>\n",
       "<style scoped>\n",
       "    .dataframe tbody tr th:only-of-type {\n",
       "        vertical-align: middle;\n",
       "    }\n",
       "\n",
       "    .dataframe tbody tr th {\n",
       "        vertical-align: top;\n",
       "    }\n",
       "\n",
       "    .dataframe thead th {\n",
       "        text-align: right;\n",
       "    }\n",
       "</style>\n",
       "<table border=\"1\" class=\"dataframe\">\n",
       "  <thead>\n",
       "    <tr style=\"text-align: right;\">\n",
       "      <th></th>\n",
       "      <th>title</th>\n",
       "      <th>view_count</th>\n",
       "      <th>category</th>\n",
       "      <th>date</th>\n",
       "    </tr>\n",
       "  </thead>\n",
       "  <tbody>\n",
       "    <tr>\n",
       "      <th>0</th>\n",
       "      <td>Делаем приватный монитор из старого LCD монитора</td>\n",
       "      <td>958.0</td>\n",
       "      <td>['DIY или Сделай сам']</td>\n",
       "      <td>2011-11-27T19:21:13.000Z</td>\n",
       "    </tr>\n",
       "    <tr>\n",
       "      <th>1</th>\n",
       "      <td>Самый беззащитный — уже не Сапсан. Всё оказало...</td>\n",
       "      <td>524.0</td>\n",
       "      <td>['Информационная безопасность', 'Системное адм...</td>\n",
       "      <td>2023-05-18T20:44:55.000Z</td>\n",
       "    </tr>\n",
       "    <tr>\n",
       "      <th>2</th>\n",
       "      <td>Были получены исходники 3300 глобальных интерн...</td>\n",
       "      <td>268.0</td>\n",
       "      <td>['Информационная безопасность']</td>\n",
       "      <td>2023-05-18T20:33:08.000Z</td>\n",
       "    </tr>\n",
       "    <tr>\n",
       "      <th>3</th>\n",
       "      <td>История игрушки. Поле Чудес</td>\n",
       "      <td>290.0</td>\n",
       "      <td>['История IT', 'Игры и игровые консоли']</td>\n",
       "      <td>2023-05-18T20:00:22.000Z</td>\n",
       "    </tr>\n",
       "    <tr>\n",
       "      <th>4</th>\n",
       "      <td>[Обновлено в 10:52, 14.12.19] В офисе Nginx пр...</td>\n",
       "      <td>311.0</td>\n",
       "      <td>['Блог компании ITSumma', 'Nginx', 'Законодате...</td>\n",
       "      <td>2023-05-18T19:30:18.000Z</td>\n",
       "    </tr>\n",
       "  </tbody>\n",
       "</table>\n",
       "</div>"
      ],
      "text/plain": [
       "                                               title  view_count  \\\n",
       "0   Делаем приватный монитор из старого LCD монитора       958.0   \n",
       "1  Самый беззащитный — уже не Сапсан. Всё оказало...       524.0   \n",
       "2  Были получены исходники 3300 глобальных интерн...       268.0   \n",
       "3                        История игрушки. Поле Чудес       290.0   \n",
       "4  [Обновлено в 10:52, 14.12.19] В офисе Nginx пр...       311.0   \n",
       "\n",
       "                                            category                      date  \n",
       "0                             ['DIY или Сделай сам']  2011-11-27T19:21:13.000Z  \n",
       "1  ['Информационная безопасность', 'Системное адм...  2023-05-18T20:44:55.000Z  \n",
       "2                    ['Информационная безопасность']  2023-05-18T20:33:08.000Z  \n",
       "3           ['История IT', 'Игры и игровые консоли']  2023-05-18T20:00:22.000Z  \n",
       "4  ['Блог компании ITSumma', 'Nginx', 'Законодате...  2023-05-18T19:30:18.000Z  "
      ]
     },
     "metadata": {},
     "output_type": "display_data"
    },
    {
     "data": {
      "text/plain": [
       "'Типы данных:'"
      ]
     },
     "metadata": {},
     "output_type": "display_data"
    },
    {
     "data": {
      "text/plain": [
       "title          object\n",
       "view_count    float64\n",
       "category       object\n",
       "date           object\n",
       "dtype: object"
      ]
     },
     "metadata": {},
     "output_type": "display_data"
    },
    {
     "data": {
      "text/plain": [
       "'Пропущенные значения:'"
      ]
     },
     "metadata": {},
     "output_type": "display_data"
    },
    {
     "data": {
      "text/plain": [
       "title         0\n",
       "view_count    0\n",
       "category      0\n",
       "date          0\n",
       "dtype: int64"
      ]
     },
     "metadata": {},
     "output_type": "display_data"
    }
   ],
   "source": [
    "df_posts = pd.read_csv('posts_data.csv', index_col=0)\n",
    "display(df_posts.head())\n",
    "display('Типы данных:', df_posts.dtypes)\n",
    "display('Пропущенные значения:', df_posts.isna().sum())"
   ]
  },
  {
   "cell_type": "markdown",
   "id": "08cc0d79",
   "metadata": {},
   "source": [
    "<a name='preprocessing'></a>\n",
    "## 2. Предобработка данных\n",
    "[Вернуться во Введение](#introduction)"
   ]
  },
  {
   "cell_type": "markdown",
   "id": "dec26341",
   "metadata": {},
   "source": [
    "По очереди осуществим предобработку каждого из параметров."
   ]
  },
  {
   "cell_type": "markdown",
   "id": "f6ec98e0",
   "metadata": {},
   "source": [
    "<a name='date'></a>\n",
    "### 2. 1. date "
   ]
  },
  {
   "cell_type": "markdown",
   "id": "332fc9f1",
   "metadata": {},
   "source": [
    "# отредактировать даты (у шести объектов 18 мая 2023 года - что не соответствует действительности)"
   ]
  },
  {
   "cell_type": "code",
   "execution_count": 4,
   "id": "5fa72947",
   "metadata": {},
   "outputs": [
    {
     "data": {
      "text/plain": [
       "0   2011-11-27 19:21:13+00:00\n",
       "1   2023-05-18 20:44:55+00:00\n",
       "2   2023-05-18 20:33:08+00:00\n",
       "3   2023-05-18 20:00:22+00:00\n",
       "4   2023-05-18 19:30:18+00:00\n",
       "Name: date, dtype: datetime64[ns, UTC]"
      ]
     },
     "execution_count": 4,
     "metadata": {},
     "output_type": "execute_result"
    }
   ],
   "source": [
    "# Конвертация типа данных 'date' из 'object' в 'datetime'\n",
    "df_posts['date'] = pd.to_datetime(df_posts['date'])\n",
    "df_posts['date'].head()"
   ]
  },
  {
   "cell_type": "code",
   "execution_count": 5,
   "id": "1e5fdb29",
   "metadata": {},
   "outputs": [
    {
     "data": {
      "text/html": [
       "<div>\n",
       "<style scoped>\n",
       "    .dataframe tbody tr th:only-of-type {\n",
       "        vertical-align: middle;\n",
       "    }\n",
       "\n",
       "    .dataframe tbody tr th {\n",
       "        vertical-align: top;\n",
       "    }\n",
       "\n",
       "    .dataframe thead th {\n",
       "        text-align: right;\n",
       "    }\n",
       "</style>\n",
       "<table border=\"1\" class=\"dataframe\">\n",
       "  <thead>\n",
       "    <tr style=\"text-align: right;\">\n",
       "      <th></th>\n",
       "      <th>title</th>\n",
       "      <th>view_count</th>\n",
       "      <th>category</th>\n",
       "      <th>year</th>\n",
       "      <th>month</th>\n",
       "      <th>day</th>\n",
       "      <th>hour</th>\n",
       "      <th>minute</th>\n",
       "    </tr>\n",
       "  </thead>\n",
       "  <tbody>\n",
       "    <tr>\n",
       "      <th>0</th>\n",
       "      <td>Делаем приватный монитор из старого LCD монитора</td>\n",
       "      <td>958.0</td>\n",
       "      <td>['DIY или Сделай сам']</td>\n",
       "      <td>2011</td>\n",
       "      <td>11</td>\n",
       "      <td>27</td>\n",
       "      <td>19</td>\n",
       "      <td>21</td>\n",
       "    </tr>\n",
       "    <tr>\n",
       "      <th>1</th>\n",
       "      <td>Самый беззащитный — уже не Сапсан. Всё оказало...</td>\n",
       "      <td>524.0</td>\n",
       "      <td>['Информационная безопасность', 'Системное адм...</td>\n",
       "      <td>2023</td>\n",
       "      <td>5</td>\n",
       "      <td>18</td>\n",
       "      <td>20</td>\n",
       "      <td>44</td>\n",
       "    </tr>\n",
       "    <tr>\n",
       "      <th>2</th>\n",
       "      <td>Были получены исходники 3300 глобальных интерн...</td>\n",
       "      <td>268.0</td>\n",
       "      <td>['Информационная безопасность']</td>\n",
       "      <td>2023</td>\n",
       "      <td>5</td>\n",
       "      <td>18</td>\n",
       "      <td>20</td>\n",
       "      <td>33</td>\n",
       "    </tr>\n",
       "    <tr>\n",
       "      <th>3</th>\n",
       "      <td>История игрушки. Поле Чудес</td>\n",
       "      <td>290.0</td>\n",
       "      <td>['История IT', 'Игры и игровые консоли']</td>\n",
       "      <td>2023</td>\n",
       "      <td>5</td>\n",
       "      <td>18</td>\n",
       "      <td>20</td>\n",
       "      <td>0</td>\n",
       "    </tr>\n",
       "    <tr>\n",
       "      <th>4</th>\n",
       "      <td>[Обновлено в 10:52, 14.12.19] В офисе Nginx пр...</td>\n",
       "      <td>311.0</td>\n",
       "      <td>['Блог компании ITSumma', 'Nginx', 'Законодате...</td>\n",
       "      <td>2023</td>\n",
       "      <td>5</td>\n",
       "      <td>18</td>\n",
       "      <td>19</td>\n",
       "      <td>30</td>\n",
       "    </tr>\n",
       "  </tbody>\n",
       "</table>\n",
       "</div>"
      ],
      "text/plain": [
       "                                               title  view_count  \\\n",
       "0   Делаем приватный монитор из старого LCD монитора       958.0   \n",
       "1  Самый беззащитный — уже не Сапсан. Всё оказало...       524.0   \n",
       "2  Были получены исходники 3300 глобальных интерн...       268.0   \n",
       "3                        История игрушки. Поле Чудес       290.0   \n",
       "4  [Обновлено в 10:52, 14.12.19] В офисе Nginx пр...       311.0   \n",
       "\n",
       "                                            category  year  month  day  hour  \\\n",
       "0                             ['DIY или Сделай сам']  2011     11   27    19   \n",
       "1  ['Информационная безопасность', 'Системное адм...  2023      5   18    20   \n",
       "2                    ['Информационная безопасность']  2023      5   18    20   \n",
       "3           ['История IT', 'Игры и игровые консоли']  2023      5   18    20   \n",
       "4  ['Блог компании ITSumma', 'Nginx', 'Законодате...  2023      5   18    19   \n",
       "\n",
       "   minute  \n",
       "0      21  \n",
       "1      44  \n",
       "2      33  \n",
       "3       0  \n",
       "4      30  "
      ]
     },
     "execution_count": 5,
     "metadata": {},
     "output_type": "execute_result"
    }
   ],
   "source": [
    "# Создадим отдельные переменные с годом, месяцем, днем, часом и минутой публикации\n",
    "df_posts['year'] = df_posts['date'].dt.year\n",
    "df_posts['month'] = df_posts['date'].dt.month\n",
    "df_posts['day'] = df_posts['date'].dt.day\n",
    "df_posts['hour'] = df_posts['date'].dt.hour\n",
    "df_posts['minute'] = df_posts['date'].dt.minute\n",
    "\n",
    "df_posts = df_posts.drop('date', axis=1)"
   ]
  },
  {
   "cell_type": "markdown",
   "id": "bfd2cfc3",
   "metadata": {},
   "source": [
    "<a name='category'></a>\n",
    "### 2. 2. category"
   ]
  },
  {
   "cell_type": "code",
   "execution_count": 6,
   "id": "430313cb",
   "metadata": {},
   "outputs": [],
   "source": [
    "# Переведем значения в столбце 'category' в список\n",
    "df_posts['category'] = df_posts['category'].apply(literal_eval)"
   ]
  },
  {
   "cell_type": "markdown",
   "id": "e360ac91",
   "metadata": {},
   "source": [
    "<a name='title'></a>\n",
    "### 2. 3. title"
   ]
  },
  {
   "cell_type": "code",
   "execution_count": null,
   "id": "63595a22",
   "metadata": {},
   "outputs": [],
   "source": []
  },
  {
   "cell_type": "code",
   "execution_count": null,
   "id": "c0064cd2",
   "metadata": {},
   "outputs": [],
   "source": []
  },
  {
   "cell_type": "code",
   "execution_count": null,
   "id": "3ce82931",
   "metadata": {},
   "outputs": [],
   "source": []
  }
 ],
 "metadata": {
  "kernelspec": {
   "display_name": "Python 3",
   "language": "python",
   "name": "python3"
  },
  "language_info": {
   "codemirror_mode": {
    "name": "ipython",
    "version": 3
   },
   "file_extension": ".py",
   "mimetype": "text/x-python",
   "name": "python",
   "nbconvert_exporter": "python",
   "pygments_lexer": "ipython3",
   "version": "3.8.8"
  }
 },
 "nbformat": 4,
 "nbformat_minor": 5
}
